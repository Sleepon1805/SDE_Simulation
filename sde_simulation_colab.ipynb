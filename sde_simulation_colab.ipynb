{
 "cells": [
  {
   "cell_type": "code",
   "execution_count": null,
   "id": "initial_id",
   "metadata": {
    "collapsed": true
   },
   "outputs": [],
   "source": [
    "import os\n",
    "import sys\n",
    "\n",
    "IN_COLAB = 'google.colab' in sys.modules\n",
    "print(f'Running in google colab: {IN_COLAB}')"
   ]
  },
  {
   "cell_type": "markdown",
   "source": [
    "To turn on GPU mode in colab:\n",
    "\n",
    "Runtime -> Change runtime type -> T4 GPU -> Save\n",
    "\n",
    "Beware, that GPU usage is restricted in free version, so don't forget to diconnect runtime, when you're finished:\n",
    "\n",
    "Runtime -> Disconnect and delete runtime"
   ],
   "metadata": {
    "collapsed": false
   },
   "id": "83f2313809f26e94"
  },
  {
   "cell_type": "code",
   "outputs": [],
   "source": [
    "if IN_COLAB:\n",
    "    # Prepare colab environment\n",
    "    !git clone https://github.com/Sleepon1805/SDE_Simulation.git\n",
    "    print('Successfully cloned PepeGeneration repo.')\n",
    "\n",
    "    os.chdir(\"/content/SDE_Simulation\")\n",
    "    print(f'Changed working directory to {os.getcwd()}')\n",
    "\n",
    "    !pip install --upgrade pip\n",
    "    print('Successfully installed all requirements.')"
   ],
   "metadata": {
    "collapsed": false
   },
   "id": "ac0030d46f198451"
  },
  {
   "cell_type": "code",
   "outputs": [],
   "source": [
    "from sde_simulation import ConvergenceRateCalculator\n",
    "from sde_lib import GeometricBrownianMotion, CoxIngersollRoss, OrnsteinUhlenbeck\n",
    "\n",
    "DEFAULT_BATCH_SIZE = 5000\n",
    "APPROXIMATION_METHODS = [\n",
    "    'Euler-Maruyama',\n",
    "    'Milstein',\n",
    "    'Truncated Milstein',\n",
    "    'Alfonsi (3)',\n",
    "    'Alfonsi (4)',\n",
    "    'Alfonsi E(0)',  # lambda=0 correspond to (4)\n",
    "    'Alfonsi E(sigma^2/4)',  # lambda = sigma ^ 2 / 4 correspond to (3)\n",
    "    'Runge-Kutta',\n",
    "]\n",
    "\n",
    "# SDE = GeometricBrownianMotion(time_horizon=1, num_steps=1, x0=1, mu=2, sigma=1)\n",
    "SDE = CoxIngersollRoss(time_horizon=1, num_steps=1, x0=1, a=1, b=1, sigma=2)\n",
    "# SDE = OrnsteinUhlenbeck(time_horizon=1, num_steps=1, x0=1, mu=0, theta=1, sigma=1\n",
    "\n",
    "calc = ConvergenceRateCalculator(\n",
    "    sde=SDE,\n",
    "    approximation_methods=APPROXIMATION_METHODS,\n",
    "    dt_grid=[2 ** i for i in range(-13, -2)],\n",
    "    p_values=[1],\n",
    "    num_simulations=10000,\n",
    ")\n",
    "# calc.calculate_convergence_rates(use_exact_solution=False, visualize=True)\n",
    "calc.test_different_sde_params('a', [0.25, 0.5, 1, 2, 3, 4],\n",
    "                               use_exact_solution=False, visualize=True)"
   ],
   "metadata": {
    "collapsed": false
   },
   "id": "1b40de8fd6eb61f3"
  }
 ],
 "metadata": {
  "kernelspec": {
   "display_name": "Python 3",
   "language": "python",
   "name": "python3"
  },
  "language_info": {
   "codemirror_mode": {
    "name": "ipython",
    "version": 2
   },
   "file_extension": ".py",
   "mimetype": "text/x-python",
   "name": "python",
   "nbconvert_exporter": "python",
   "pygments_lexer": "ipython2",
   "version": "2.7.6"
  }
 },
 "nbformat": 4,
 "nbformat_minor": 5
}
